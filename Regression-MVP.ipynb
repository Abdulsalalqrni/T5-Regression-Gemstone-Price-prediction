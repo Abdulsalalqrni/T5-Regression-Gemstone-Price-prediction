{
 "cells": [
  {
   "cell_type": "markdown",
   "id": "a051c03c",
   "metadata": {},
   "source": [
    "## Libraries Imports"
   ]
  },
  {
   "cell_type": "code",
   "execution_count": null,
   "id": "6ca88d99",
   "metadata": {},
   "outputs": [],
   "source": [
    "import pandas as pd\n",
    "import seaborn as sns\n",
    "import numpy as np\n",
    "import matplotlib.pyplot as plt\n",
    "from sklearn.linear_model import LinearRegression\n",
    "from sklearn.linear_model import RidgeCV\n",
    "from sklearn.tree import DecisionTreeRegressor\n",
    "import patsy\n",
    "from sklearn.model_selection import train_test_split\n",
    "from sklearn.linear_model import LinearRegression, Ridge\n",
    "from sklearn.linear_model import LinearRegression, Lasso, LassoCV, Ridge, RidgeCV\n",
    "from sklearn.preprocessing import StandardScaler, PolynomialFeatures\n",
    "import statsmodels.api as sm\n",
    "import statsmodels.formula.api as smf\n",
    "%config InlineBackend.figure_format = 'png'"
   ]
  },
  {
   "cell_type": "markdown",
   "id": "502d2066",
   "metadata": {},
   "source": [
    "## Introduction\n",
    "we will address the subject of gemstones, specifically the stone of cubic zirconia"
   ]
  },
  {
   "cell_type": "markdown",
   "id": "298ba8e2",
   "metadata": {},
   "source": [
    "## The first step: EDA\n"
   ]
  },
  {
   "cell_type": "markdown",
   "id": "e7fa6532",
   "metadata": {},
   "source": [
    "## Load Data\n"
   ]
  },
  {
   "cell_type": "code",
   "execution_count": null,
   "id": "d14dabfb",
   "metadata": {},
   "outputs": [],
   "source": [
    "#reading the data\n",
    "df= pd.read_csv('cubic_zirconia.csv',index_col=0) "
   ]
  },
  {
   "cell_type": "markdown",
   "id": "c2a51a6a",
   "metadata": {},
   "source": [
    "## Data Cleaning"
   ]
  },
  {
   "cell_type": "code",
   "execution_count": null,
   "id": "5b2e4b60",
   "metadata": {},
   "outputs": [],
   "source": [
    "#show first 5 row\n",
    "df.head()"
   ]
  },
  {
   "cell_type": "code",
   "execution_count": null,
   "id": "fe54cba8",
   "metadata": {},
   "outputs": [],
   "source": [
    "#show number of rows and columns\n",
    "print(\"DataSet dimension     :\",df.shape)"
   ]
  },
  {
   "cell_type": "code",
   "execution_count": null,
   "id": "9abcf2fd",
   "metadata": {},
   "outputs": [],
   "source": [
    "#summary statistic \n",
    "df.describe()"
   ]
  },
  {
   "cell_type": "code",
   "execution_count": null,
   "id": "d926446c",
   "metadata": {},
   "outputs": [],
   "source": [
    "#show information\n",
    "df.info()"
   ]
  },
  {
   "cell_type": "code",
   "execution_count": null,
   "id": "a14d87a9",
   "metadata": {},
   "outputs": [],
   "source": [
    "#show all null value in columns\n",
    "df.isnull().sum()"
   ]
  },
  {
   "cell_type": "code",
   "execution_count": null,
   "id": "fe61d4bc",
   "metadata": {},
   "outputs": [],
   "source": [
    "#know the type of data\n",
    "df.dtypes"
   ]
  },
  {
   "cell_type": "code",
   "execution_count": null,
   "id": "80b7226e",
   "metadata": {},
   "outputs": [],
   "source": [
    "# show ten row randomly\n",
    "df.sample(10)"
   ]
  },
  {
   "cell_type": "code",
   "execution_count": null,
   "id": "d2cbb000",
   "metadata": {},
   "outputs": [],
   "source": [
    "#drop depth column\n",
    "df.drop(['depth'], axis=1, inplace=True)"
   ]
  },
  {
   "cell_type": "code",
   "execution_count": null,
   "id": "a55a721e",
   "metadata": {},
   "outputs": [],
   "source": [
    "#drop table column\n",
    "df.drop(['table'], axis=1, inplace=True)"
   ]
  },
  {
   "cell_type": "code",
   "execution_count": null,
   "id": "0501dd88",
   "metadata": {},
   "outputs": [],
   "source": [
    "# rename columns\n",
    "df=df.rename(columns={'carat': 'Carat', 'cut': 'Cut', 'color': 'Color',\n",
    "                                  'clarity': 'Clarity', 'price': 'Price',\n",
    "                                  'x': 'Length', 'y': 'Width', 'z': 'Height'})"
   ]
  },
  {
   "cell_type": "code",
   "execution_count": null,
   "id": "624dbbe6",
   "metadata": {},
   "outputs": [],
   "source": [
    "#show first 5 row\n",
    "df.head()"
   ]
  },
  {
   "cell_type": "markdown",
   "id": "b5469d4f",
   "metadata": {},
   "source": [
    "## Note that we have Five columns containing outlier "
   ]
  },
  {
   "cell_type": "code",
   "execution_count": null,
   "id": "de958a9b",
   "metadata": {},
   "outputs": [],
   "source": [
    "#Show outlier in Price column\n",
    "sns.boxplot(df['Price']).set_title(\"Price before treating Outlier\");"
   ]
  },
  {
   "cell_type": "code",
   "execution_count": null,
   "id": "61554bd3",
   "metadata": {},
   "outputs": [],
   "source": [
    "#Show outlier in Height column\n",
    "sns.boxplot(df['Height']).set_title(\"Height before treating Outlier\");"
   ]
  },
  {
   "cell_type": "code",
   "execution_count": null,
   "id": "618d5daa",
   "metadata": {},
   "outputs": [],
   "source": [
    "#Show outlier in Width column\n",
    "sns.boxplot(df['Width']).set_title(\"Width before treating Outlier\");"
   ]
  },
  {
   "cell_type": "code",
   "execution_count": null,
   "id": "eac1424a",
   "metadata": {},
   "outputs": [],
   "source": [
    "#Show outlier in Length column\n",
    "sns.boxplot(df['Length']).set_title(\"Length before treating Outlier\");"
   ]
  },
  {
   "cell_type": "code",
   "execution_count": null,
   "id": "89cb0ad8",
   "metadata": {},
   "outputs": [],
   "source": [
    "#Show outlier in Carat column\n",
    "sns.boxplot(df['Carat']).set_title(\"Carat before treating Outlier\");"
   ]
  },
  {
   "cell_type": "code",
   "execution_count": null,
   "id": "0e14a3f3",
   "metadata": {},
   "outputs": [],
   "source": [
    "# replace all 0 value to null value \n",
    "df = df.replace(0,np.nan)"
   ]
  },
  {
   "cell_type": "code",
   "execution_count": null,
   "id": "0556ec7c",
   "metadata": {},
   "outputs": [],
   "source": [
    "#show information\n",
    "df.info()"
   ]
  },
  {
   "cell_type": "code",
   "execution_count": null,
   "id": "2f53505f",
   "metadata": {},
   "outputs": [],
   "source": [
    "#show all null value in columns\n",
    "df.isnull().sum()"
   ]
  },
  {
   "cell_type": "code",
   "execution_count": null,
   "id": "9fca55e9",
   "metadata": {},
   "outputs": [],
   "source": [
    "# Show just cloumns names\n",
    "df.columns"
   ]
  },
  {
   "cell_type": "code",
   "execution_count": null,
   "id": "0c6ed2e0",
   "metadata": {},
   "outputs": [],
   "source": [
    "#put in all null value in length column mean \n",
    "df['Length'].fillna(df['Length'].mean(),inplace=True)"
   ]
  },
  {
   "cell_type": "code",
   "execution_count": null,
   "id": "e945acc7",
   "metadata": {},
   "outputs": [],
   "source": [
    "#put in all null value in width column mean \n",
    "df['Width'].fillna(df['Width'].mean(),inplace=True)"
   ]
  },
  {
   "cell_type": "code",
   "execution_count": null,
   "id": "cd414039",
   "metadata": {},
   "outputs": [],
   "source": [
    "#put in all null value in Height column mean \n",
    "df['Height'].fillna(df['Height'].mean(),inplace=True)"
   ]
  },
  {
   "cell_type": "code",
   "execution_count": null,
   "id": "caebdfa7",
   "metadata": {},
   "outputs": [],
   "source": [
    "#show all null value in columns\n",
    "df.isnull().sum()"
   ]
  },
  {
   "cell_type": "code",
   "execution_count": null,
   "id": "4f1c24b1",
   "metadata": {},
   "outputs": [],
   "source": [
    "#show information\n",
    "df.info()"
   ]
  },
  {
   "cell_type": "code",
   "execution_count": null,
   "id": "b3025264",
   "metadata": {},
   "outputs": [],
   "source": [
    "#summary statistic \n",
    "df.describe()"
   ]
  },
  {
   "cell_type": "markdown",
   "id": "f5a1238d",
   "metadata": {},
   "source": [
    "## Outlier problem is solved"
   ]
  },
  {
   "cell_type": "code",
   "execution_count": null,
   "id": "9277cf07",
   "metadata": {},
   "outputs": [],
   "source": [
    "# This statement solved outlier problem in Height column\n",
    "index = df[(df['Height'] >= 5)|(df['Height'] <= 2)].index \n",
    "df.drop(index, inplace=True) "
   ]
  },
  {
   "cell_type": "code",
   "execution_count": null,
   "id": "32708464",
   "metadata": {},
   "outputs": [],
   "source": [
    "#Show outlier in Height column\n",
    "sns.boxplot(df[\"Height\"]).set_title(\"Height after treating Outlier\");# s"
   ]
  },
  {
   "cell_type": "code",
   "execution_count": null,
   "id": "7e037e54",
   "metadata": {},
   "outputs": [],
   "source": [
    "# This statement solved outlier problem in Width column\n",
    "index = df[(df['Width'] >= 7)|(df['Width'] <= 2)].index\n",
    "df.drop(index, inplace=True)"
   ]
  },
  {
   "cell_type": "code",
   "execution_count": null,
   "id": "edca0d1a",
   "metadata": {},
   "outputs": [],
   "source": [
    "#Show outlier in Width column\n",
    "sns.boxplot(df['Width']).set_title(\"Width after treating Outlier\");"
   ]
  },
  {
   "cell_type": "code",
   "execution_count": null,
   "id": "cfc59dbb",
   "metadata": {},
   "outputs": [],
   "source": [
    "# This statement solved outlier problem in Length column\n",
    "index = df[(df['Length'] >= 7) |(df['Length'] <= 4)].index\n",
    "df.drop(index, inplace=True)"
   ]
  },
  {
   "cell_type": "code",
   "execution_count": null,
   "id": "bd968d02",
   "metadata": {},
   "outputs": [],
   "source": [
    "#Show outlier in Length column\n",
    "sns.boxplot(df['Length']).set_title(\"Length after treating Outlier\");"
   ]
  },
  {
   "cell_type": "code",
   "execution_count": null,
   "id": "30d0f849",
   "metadata": {},
   "outputs": [],
   "source": [
    "# This statement solved outlier problem in Carat column\n",
    "index = df[(df['Carat'] >= 1.5)].index\n",
    "df.drop(index, inplace=True)"
   ]
  },
  {
   "cell_type": "code",
   "execution_count": null,
   "id": "dce6da44",
   "metadata": {},
   "outputs": [],
   "source": [
    "#Show outlier in Carat column\n",
    "sns.boxplot(df['Carat']).set_title(\"Carat after treating Outlier\");"
   ]
  },
  {
   "cell_type": "code",
   "execution_count": null,
   "id": "57b7538d",
   "metadata": {},
   "outputs": [],
   "source": [
    "# This statement solved outlier problem in Price column\n",
    "index = df[(df['Price'] >= 6500)].index\n",
    "df.drop(index, inplace=True)"
   ]
  },
  {
   "cell_type": "code",
   "execution_count": null,
   "id": "e5e8cd50",
   "metadata": {},
   "outputs": [],
   "source": [
    "#Show outlier in Price column\n",
    "sns.boxplot(df['Price']).set_title(\"Price after treating Outlier\");"
   ]
  },
  {
   "cell_type": "code",
   "execution_count": null,
   "id": "3d64903a",
   "metadata": {},
   "outputs": [],
   "source": [
    "#This statement to show the correlation for dataframe\n",
    "df.corr() "
   ]
  },
  {
   "cell_type": "code",
   "execution_count": null,
   "id": "d5ec6578",
   "metadata": {},
   "outputs": [],
   "source": [
    "# Plot all of the variable-to-variable relations \n",
    "sns.pairplot(df);"
   ]
  },
  {
   "cell_type": "code",
   "execution_count": null,
   "id": "88e4f6b1",
   "metadata": {},
   "outputs": [],
   "source": [
    "sns.heatmap(df.corr(),annot=True); #This statement to show the correlation for dataframe"
   ]
  },
  {
   "cell_type": "markdown",
   "id": "42611b9c",
   "metadata": {},
   "source": [
    "## Solve the Questions:"
   ]
  },
  {
   "cell_type": "markdown",
   "id": "22bf93e3",
   "metadata": {},
   "source": [
    "## Q1: Which color is the best of selling stone?\n",
    " "
   ]
  },
  {
   "cell_type": "code",
   "execution_count": null,
   "id": "3de01819",
   "metadata": {},
   "outputs": [],
   "source": [
    "# show all color values and repetition\n",
    "DF=df['Color'].value_counts()\n",
    "DF"
   ]
  },
  {
   "cell_type": "code",
   "execution_count": null,
   "id": "959e556b",
   "metadata": {},
   "outputs": [],
   "source": [
    "# show all color values\n",
    "DF=df[\"Color\"].value_counts()\n",
    "DF.index"
   ]
  },
  {
   "cell_type": "code",
   "execution_count": null,
   "id": "d7bf4842",
   "metadata": {},
   "outputs": [],
   "source": [
    "plt.figure(figsize=[8,8])#This statement for size of the plot \n",
    "plt.pie(df['Color'].value_counts(),# This statement for create a  plot \n",
    "labels=df['Color'].value_counts().index,\n",
    "startangle=90,\n",
    "colors=['#778899', '#D3D3D3', '#FFDEAD', '#FFE4E1', '#FFEFD5','#BC8F8F','#C0C0C0'],#This statement for plot color \n",
    "explode=[0.05,0.05,0.05,0.05,0.05,0.05,0.2],\n",
    "shadow=True, autopct='%1.1f%%');\n",
    "plt.title(\"Color best-selling stone\",fontsize =14,weight = 'bold');#This statement for write in Title \n",
    "plt.savefig('SDAIA.png')"
   ]
  },
  {
   "cell_type": "markdown",
   "id": "bea7c17d",
   "metadata": {},
   "source": [
    "## Q2: What is the best clarity of selling stone?\n",
    "\n"
   ]
  },
  {
   "cell_type": "code",
   "execution_count": null,
   "id": "4962d423",
   "metadata": {},
   "outputs": [],
   "source": [
    "# show all clarity values and repetition\n",
    "DF=df['Clarity'].value_counts()\n",
    "DF"
   ]
  },
  {
   "cell_type": "code",
   "execution_count": null,
   "id": "493833b4",
   "metadata": {},
   "outputs": [],
   "source": [
    "# show all clarity values\n",
    "DF=df[\"Clarity\"].value_counts()\n",
    "DF.index"
   ]
  },
  {
   "cell_type": "code",
   "execution_count": null,
   "id": "ceb1430b",
   "metadata": {},
   "outputs": [],
   "source": [
    "plt.figure(figsize=[7,7])#This statement for size of the plot \n",
    "sns.countplot(data= df ,x = \"Clarity\" , order = DF.index ,palette=\"Set2\");# This statement for create a  plot \n",
    "plt.title('stone clarity most demanding ',fontsize = 14, weight = 'bold',color='black');#This statement for write in Title\n",
    "plt.savefig('SDAIA.png')"
   ]
  },
  {
   "cell_type": "markdown",
   "id": "cab4b044",
   "metadata": {},
   "source": [
    "# Q3: Does the quality of stone affect its price?\n"
   ]
  },
  {
   "cell_type": "code",
   "execution_count": null,
   "id": "64239209",
   "metadata": {},
   "outputs": [],
   "source": [
    "quality_stone=df.groupby(\"Cut\")[[\"Price\"]].sum().reset_index().sort_values(\"Price\",ascending=False) #This statement for show affect quality on price\n",
    "quality_stone"
   ]
  },
  {
   "cell_type": "code",
   "execution_count": null,
   "id": "72edb27b",
   "metadata": {},
   "outputs": [],
   "source": [
    "plt.figure(figsize = [10,10]) #This statement for size of the chart\n",
    "sns.lineplot(data=quality_stone,x=\"Cut\",y=\"Price\",color=\"#778899\") # This statement for create a chart and modify\n",
    "plt.title(\"The effect of the quality of the stone on Price\",fontsize =14, weight = 'bold'); #This statement for write in Title and modify\n",
    "plt.grid() #This statement for drow on the chart by line\n",
    "plt.scatter(quality_stone['Cut'],quality_stone['Price'],c='#778899' ); #This statement for create a chart and modify\n",
    "plt.rc('xtick',labelsize=13) #This statement for size xticks\n",
    "plt.rc('ytick',labelsize=13) #This statement for size yticks\n",
    "plt.savefig('SDAIA.png')"
   ]
  },
  {
   "cell_type": "markdown",
   "id": "03237dd4",
   "metadata": {},
   "source": [
    "## Q4: What is the highest and lowest value of the stone based on its price?\n"
   ]
  },
  {
   "cell_type": "code",
   "execution_count": null,
   "id": "0f644470",
   "metadata": {},
   "outputs": [],
   "source": [
    "print(\"The largest weight of cubic zirconia is\",df['Carat'].max())# show the maximum value in carat\n",
    "print(\"its Price is estimated at\",df['Price'].max())# show the maximum value in price\n",
    "print(\"\\n\")\n",
    "print(\"The smallest weight of cubic zirconia is\",df['Carat'].min())# show the minimum value in carat\n",
    "print(\"its Price is estimated at\",df['Price'].min())# show the minimum value in carat"
   ]
  },
  {
   "cell_type": "code",
   "execution_count": null,
   "id": "72f1ddf6",
   "metadata": {},
   "outputs": [],
   "source": [
    "# show relationship of the weight of the stone with its price\n",
    "DF=df.groupby(\"Carat\",as_index=False)[[\"Price\"]].mean()\n",
    "DF"
   ]
  },
  {
   "cell_type": "code",
   "execution_count": null,
   "id": "9247b46c",
   "metadata": {},
   "outputs": [],
   "source": [
    "plt.figure(figsize = [10,10])#This statement for size of the plot\n",
    "plt.title(\"Relationship of the weight of the stone with its price\",fontsize =14 , weight = 'bold');#This statement for write in Title\n",
    "sns.lineplot(data=DF,x='Carat',y='Price',color='#B22222');# This statement for create a  plot \n",
    "plt.grid() # This statement to add grid lines to the plot\n",
    "plt.savefig('SDAIA.png')"
   ]
  },
  {
   "cell_type": "markdown",
   "id": "f1d5b7b3",
   "metadata": {},
   "source": [
    "## Feature Engineering "
   ]
  },
  {
   "cell_type": "code",
   "execution_count": null,
   "id": "1c617e63",
   "metadata": {},
   "outputs": [],
   "source": [
    "df['the_size']=df['Length']*df['Width']*df['Height'] # creat new feature from existing feature\n",
    "df['the_size']"
   ]
  },
  {
   "cell_type": "code",
   "execution_count": null,
   "id": "2ba43543",
   "metadata": {},
   "outputs": [],
   "source": [
    "df.head()"
   ]
  },
  {
   "cell_type": "code",
   "execution_count": null,
   "id": "238dccaa",
   "metadata": {},
   "outputs": [],
   "source": [
    "df.drop(['Length'], axis=1, inplace=True) # drop length column"
   ]
  },
  {
   "cell_type": "code",
   "execution_count": null,
   "id": "be9cbe8b",
   "metadata": {},
   "outputs": [],
   "source": [
    "df.drop(['Width'], axis=1, inplace=True) # drop width column"
   ]
  },
  {
   "cell_type": "code",
   "execution_count": null,
   "id": "95af6ef9",
   "metadata": {},
   "outputs": [],
   "source": [
    "df.drop(['Height'], axis=1, inplace=True) # drop height column"
   ]
  },
  {
   "cell_type": "code",
   "execution_count": null,
   "id": "0991cf8f",
   "metadata": {},
   "outputs": [],
   "source": [
    "df.corr() # view coloration"
   ]
  },
  {
   "cell_type": "markdown",
   "id": "2774042d",
   "metadata": {},
   "source": [
    "## Feature Selection"
   ]
  },
  {
   "cell_type": "code",
   "execution_count": null,
   "id": "1a2a0a79",
   "metadata": {},
   "outputs": [],
   "source": [
    "pd.get_dummies(df['Cut'], drop_first=True).head(5) # transformation cut column to int "
   ]
  },
  {
   "cell_type": "code",
   "execution_count": null,
   "id": "a0f94cbe",
   "metadata": {},
   "outputs": [],
   "source": [
    "pd.get_dummies(df['Color'], drop_first=True).head(5) # transformation color column to int"
   ]
  },
  {
   "cell_type": "code",
   "execution_count": null,
   "id": "70f3f7e2",
   "metadata": {},
   "outputs": [],
   "source": [
    "pd.get_dummies(df['Clarity'], drop_first=True).head(5) # transformation Clarity column to int"
   ]
  },
  {
   "cell_type": "code",
   "execution_count": null,
   "id": "2f156111",
   "metadata": {},
   "outputs": [],
   "source": [
    "df = pd.get_dummies(df,drop_first=True) # apply it to the whole df\n",
    "df.head(3)"
   ]
  },
  {
   "cell_type": "markdown",
   "id": "e494c34d",
   "metadata": {},
   "source": [
    "## Split Data"
   ]
  },
  {
   "cell_type": "code",
   "execution_count": null,
   "id": "72334bfe",
   "metadata": {},
   "outputs": [],
   "source": [
    "#Separate our features from our target\n",
    "X = df.loc[:, df.columns != 'Price']\n",
    "X.columns\n",
    "y = df['Price']\n",
    "# Separate dataset into train and test \n",
    "X_train , X_test, y_train, y_test = train_test_split(X, y, test_size=0.2,random_state=42)\n",
    "X_train, X_val, y_train, y_val = train_test_split(X_train, y_train, test_size=.25, random_state=43)\n",
    "X"
   ]
  },
  {
   "cell_type": "markdown",
   "id": "f0589c9c",
   "metadata": {},
   "source": [
    "## Apply ML Model \n",
    "\n",
    "We used 4 MODELS"
   ]
  },
  {
   "cell_type": "markdown",
   "id": "9a190e1c",
   "metadata": {},
   "source": [
    "## Linear Regression"
   ]
  },
  {
   "cell_type": "code",
   "execution_count": null,
   "id": "b7c0ccff",
   "metadata": {},
   "outputs": [],
   "source": [
    "lm = LinearRegression() # linear regression model\n",
    "\n",
    "lm.fit(X_train, y_train) # apply model\n",
    "print(f'Linear Regression val R^2: {lm.score(X_val, y_val):.4f}') # show R^2 value train \n",
    "print(\"\\n\")\n",
    "lm.fit(X,y) # apply model\n",
    "print(f'Linear Regression test R^2: {lm.score(X_test, y_test):.4f}') # show R^2 value test "
   ]
  },
  {
   "cell_type": "markdown",
   "id": "4d75b0b3",
   "metadata": {},
   "source": [
    "## Comparison Between Actual and predict value"
   ]
  },
  {
   "cell_type": "code",
   "execution_count": null,
   "id": "8b8de3e1",
   "metadata": {},
   "outputs": [],
   "source": [
    "y_haat=lm.predict(X_test) # value Predictin \n",
    "y_haat"
   ]
  },
  {
   "cell_type": "code",
   "execution_count": null,
   "id": "a80c7ebd",
   "metadata": {},
   "outputs": [],
   "source": [
    "y_test # value actual "
   ]
  },
  {
   "cell_type": "markdown",
   "id": "6af39731",
   "metadata": {},
   "source": [
    "## Comparison Between Actual and predict value by plot"
   ]
  },
  {
   "cell_type": "code",
   "execution_count": null,
   "id": "674b87f2",
   "metadata": {},
   "outputs": [],
   "source": [
    "plt.figure(figsize = [12,6])\n",
    "sns.set_style(\"white\")\n",
    "x_plt_range = [y.min(),y.max()]\n",
    "y_plt_range = [y_haat.min(),y_haat.max()]\n",
    "plt.grid()\n",
    "plt.scatter(y_test,y_haat,alpha=0.6,color='#DEB887',s=75)\n",
    "plt.plot(x_plt_range,y_plt_range,c=\"r\")\n",
    "plt.title(\"ACTUAL AND PREDICT VALUE IN LINEAR REGRESSION MODEL \",fontsize = 20, weight = 'bold')\n",
    "plt.xlabel(\"ACTUAL \",fontsize = 17, weight = 'bold')\n",
    "plt.ylabel('PREDICT',fontsize = 17, weight = 'bold');\n",
    "plt.savefig('SDAIA.png')"
   ]
  },
  {
   "cell_type": "markdown",
   "id": "b3487814",
   "metadata": {},
   "source": [
    "## Ridge Regression"
   ]
  },
  {
   "cell_type": "code",
   "execution_count": null,
   "id": "e48d831a",
   "metadata": {},
   "outputs": [],
   "source": [
    "scaler = StandardScaler() # Standard Scaler regression model\n",
    "\n",
    "X_train_scaled = scaler.fit_transform(X_train.values)  # apply model\n",
    "X_val_scaled = scaler.transform(X_val.values)\n",
    "X_test_scaled = scaler.transform(X_test.values)\n",
    "\n",
    "lm_reg = Ridge() # ridge regression model\n",
    "\n",
    "lm_reg.fit(X_train_scaled, y_train) # apply model\n",
    "print(f'Ridge Regression val R^2: {lm_reg.score(X_val_scaled, y_val):.4f}') # show R^2 value train \n",
    "print('\\n')\n",
    "print(f'Ridge Regression test R^2: {lm_reg.score(X_test_scaled, y_test):.4f}') # show R^2 value test"
   ]
  },
  {
   "cell_type": "markdown",
   "id": "66c3b9a4",
   "metadata": {},
   "source": [
    "## Comparison Between Actual and predict value"
   ]
  },
  {
   "cell_type": "code",
   "execution_count": null,
   "id": "14cf5f99",
   "metadata": {},
   "outputs": [],
   "source": [
    "y_haaat=lm_reg.predict(X_test) # value Predictin \n",
    "y_haaat "
   ]
  },
  {
   "cell_type": "code",
   "execution_count": null,
   "id": "f1635186",
   "metadata": {},
   "outputs": [],
   "source": [
    "y_test # value actual "
   ]
  },
  {
   "cell_type": "markdown",
   "id": "fe44f5a6",
   "metadata": {},
   "source": [
    "## Comparison Between Actual and predict value by plot"
   ]
  },
  {
   "cell_type": "code",
   "execution_count": null,
   "id": "72729c8f",
   "metadata": {},
   "outputs": [],
   "source": [
    "plt.figure(figsize = [12,6])\n",
    "sns.set_style(\"white\")\n",
    "x_plt_range = [y.min(),y.max()]\n",
    "y_plt_range = [y_haaat.min(),y_haaat.max()]\n",
    "plt.grid()\n",
    "plt.scatter(y_test,y_haaat,alpha=0.6,color='#DEB887',s=75)\n",
    "plt.plot(x_plt_range,y_plt_range,c=\"r\")\n",
    "plt.title(\"ACTUAL AND PREDICT VALUE IN RIDGE REGRESSION MODEL \",fontsize = 20, weight = 'bold')\n",
    "plt.xlabel(\"ACTUAL \",fontsize = 17, weight = 'bold')\n",
    "plt.ylabel('PREDICT',fontsize = 17, weight = 'bold');\n",
    "plt.savefig('SDAIA.png')"
   ]
  },
  {
   "cell_type": "markdown",
   "id": "e64e79ec",
   "metadata": {},
   "source": [
    "## polynomial Regression "
   ]
  },
  {
   "cell_type": "code",
   "execution_count": null,
   "id": "adfe6911",
   "metadata": {},
   "outputs": [],
   "source": [
    "poly = PolynomialFeatures(degree=2) \n",
    "X_train_poly = poly.fit_transform(X_train.values)\n",
    "X_val_poly = poly.transform(X_val.values)\n",
    "X_test_poly = poly.transform(X_test.values)\n",
    "lm_poly = LinearRegression() # polynomial regression model\n",
    "lm_poly.fit(X_train_poly, y_train)  # apply model\n",
    "print(f'Degree 2 polynomial regression val R^2: {lm_poly.score(X_val_poly, y_val):.4f}')  # show R^2 value train\n",
    "print('\\n')\n",
    "print(f'polynomial regression test R^2: {lm_poly.score(X_test_poly, y_test):.4f}')  # show R^2 value test"
   ]
  },
  {
   "cell_type": "markdown",
   "id": "04dc881c",
   "metadata": {},
   "source": [
    "## Comparison Between Actual and predict value"
   ]
  },
  {
   "cell_type": "code",
   "execution_count": null,
   "id": "40b2d782",
   "metadata": {},
   "outputs": [],
   "source": [
    "y_ht=lm_poly.predict(X_test_poly) # value Predictin \n",
    "y_ht"
   ]
  },
  {
   "cell_type": "code",
   "execution_count": null,
   "id": "fcce1127",
   "metadata": {},
   "outputs": [],
   "source": [
    "y_test # value actual "
   ]
  },
  {
   "cell_type": "markdown",
   "id": "80c808bf",
   "metadata": {},
   "source": [
    "## Comparison Between Actual and predict value by plot"
   ]
  },
  {
   "cell_type": "code",
   "execution_count": null,
   "id": "13312045",
   "metadata": {},
   "outputs": [],
   "source": [
    "plt.figure(figsize = [12,6])\n",
    "sns.set_style(\"white\")\n",
    "x_plt_range = [y.min(),y.max()]\n",
    "y_plt_range = [y_ht.min(),y_ht.max()]\n",
    "plt.grid()\n",
    "plt.scatter(y_test,y_ht,alpha=0.6,color='#DEB887',s=75)\n",
    "plt.plot(x_plt_range,y_plt_range,c=\"r\")\n",
    "plt.title(\"ACTUAL AND PREDICT VALUE IN POLYNOMIAL REGRESSION MODEL \",fontsize = 20, weight = 'bold')\n",
    "plt.xlabel(\"ACTUAL \",fontsize = 17, weight = 'bold')\n",
    "plt.ylabel('PREDICT',fontsize = 17, weight = 'bold');\n",
    "plt.savefig('SDAIA.png')"
   ]
  },
  {
   "cell_type": "markdown",
   "id": "d76c723b",
   "metadata": {},
   "source": [
    "## Decision Tree Regressor"
   ]
  },
  {
   "cell_type": "code",
   "execution_count": null,
   "id": "90d9cbf7",
   "metadata": {},
   "outputs": [],
   "source": [
    "regressor = DecisionTreeRegressor() # Decision Tree Regressor model\n",
    "regressor.fit(X_train, y_train)  # apply model\n",
    "print(f'Decision tree val R^2: {lm.score(X_val, y_val):.4f}')  # show R^2 value train\n",
    "print('\\n')\n",
    "print(f'Decision tree test R^2: {lm.score(X_test, y_test):.4f}')  # show R^2 value test"
   ]
  },
  {
   "cell_type": "markdown",
   "id": "58712c4d",
   "metadata": {},
   "source": [
    "### Comparison Between Actual and predict value"
   ]
  },
  {
   "cell_type": "code",
   "execution_count": null,
   "id": "910c5d36",
   "metadata": {},
   "outputs": [],
   "source": [
    "y_hat=regressor.predict(X_test) # value Predictin\n",
    "y_hat"
   ]
  },
  {
   "cell_type": "code",
   "execution_count": null,
   "id": "13e2ec1b",
   "metadata": {},
   "outputs": [],
   "source": [
    "y_test # value actual"
   ]
  },
  {
   "cell_type": "markdown",
   "id": "8c0eec6e",
   "metadata": {},
   "source": [
    "### Comparison Between Actual and predict value by plot"
   ]
  },
  {
   "cell_type": "code",
   "execution_count": null,
   "id": "585ca265",
   "metadata": {},
   "outputs": [],
   "source": [
    "plt.figure(figsize = [12,6])\n",
    "sns.set_style(\"white\")\n",
    "x_plt_range = [y.min(),y.max()]\n",
    "y_plt_range = [y_hat.min(),y_hat.max()]\n",
    "plt.grid()\n",
    "plt.scatter(y_test,y_hat,alpha=0.6,color='#DEB887',s=75)\n",
    "plt.plot(x_plt_range,y_plt_range,c=\"r\")\n",
    "plt.title(\"ACTUAL AND PREDICT VALUE IN DECISION TREE REGRESSOR MODEL \",fontsize = 20, weight = 'bold')\n",
    "plt.xlabel(\"ACTUAL \",fontsize = 17, weight = 'bold')\n",
    "plt.ylabel('PREDICT',fontsize = 17, weight = 'bold');\n",
    "plt.savefig('SDAIA.png')"
   ]
  },
  {
   "cell_type": "markdown",
   "id": "0703686e",
   "metadata": {},
   "source": [
    "## Best Model\n",
    "\n",
    "In this project, We used four models and compared between them. Then, we came up with a  different and wonderful results, The best results for our models of data set was a model\n",
    "\n",
    "\n",
    "R^2 train = 0.9675\n",
    "\n",
    "R^2 train = 0.9681\n"
   ]
  }
 ],
 "metadata": {
  "kernelspec": {
   "display_name": "Python 3",
   "language": "python",
   "name": "python3"
  },
  "language_info": {
   "codemirror_mode": {
    "name": "ipython",
    "version": 3
   },
   "file_extension": ".py",
   "mimetype": "text/x-python",
   "name": "python",
   "nbconvert_exporter": "python",
   "pygments_lexer": "ipython3",
   "version": "3.8.8"
  }
 },
 "nbformat": 4,
 "nbformat_minor": 5
}
